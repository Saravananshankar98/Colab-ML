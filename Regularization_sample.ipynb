{
  "nbformat": 4,
  "nbformat_minor": 0,
  "metadata": {
    "colab": {
      "provenance": [],
      "authorship_tag": "ABX9TyN6CUB0tVFXR3UEbhSrGGIO",
      "include_colab_link": true
    },
    "kernelspec": {
      "name": "python3",
      "display_name": "Python 3"
    },
    "language_info": {
      "name": "python"
    }
  },
  "cells": [
    {
      "cell_type": "markdown",
      "metadata": {
        "id": "view-in-github",
        "colab_type": "text"
      },
      "source": [
        "<a href=\"https://colab.research.google.com/github/Saravananshankar98/Colab-ML/blob/main/Regularization_sample.ipynb\" target=\"_parent\"><img src=\"https://colab.research.google.com/assets/colab-badge.svg\" alt=\"Open In Colab\"/></a>"
      ]
    },
    {
      "cell_type": "code",
      "execution_count": 1,
      "metadata": {
        "colab": {
          "base_uri": "https://localhost:8080/"
        },
        "id": "s0b3NO0XJfYD",
        "outputId": "5f90920f-b09c-4c84-d5f6-d65bf8d2555c"
      },
      "outputs": [
        {
          "output_type": "stream",
          "name": "stdout",
          "text": [
            "Linear Regression MSE: 0.2439845548406653\n",
            "Lasso Regression MSE: 0.5393142256218519\n",
            "Ridge Regression MSE: 0.24610459102675666\n",
            "Linear Regression Coefficients: [ 1.32647934 -2.11696166  1.32395165  0.0727923   0.27717992]\n",
            "Lasso Regression Coefficients: [ 0.09884611 -1.10121384  0.          0.          0.        ]\n",
            "Ridge Regression Coefficients: [ 1.30713348 -2.08915554  1.29965914  0.07252386  0.2742282 ]\n"
          ]
        }
      ],
      "source": [
        "import numpy as np\n",
        "import matplotlib.pyplot as plt\n",
        "from sklearn.model_selection import train_test_split\n",
        "from sklearn.linear_model import LinearRegression, Lasso, Ridge\n",
        "from sklearn.metrics import mean_squared_error\n",
        "\n",
        "# Generate mock data\n",
        "np.random.seed(42)\n",
        "X = np.random.rand(100, 5)\n",
        "y = X @ np.array([1.5, -2., 1., 0., 0.5]) + np.random.randn(100) * 0.5\n",
        "\n",
        "# Split data into training and testing sets\n",
        "X_train, X_test, y_train, y_test = train_test_split(X, y, test_size=0.2, random_state=42)\n",
        "\n",
        "# Train a Linear Regression model\n",
        "linear_model = LinearRegression()\n",
        "linear_model.fit(X_train, y_train)\n",
        "y_pred_linear = linear_model.predict(X_test)\n",
        "linear_mse = mean_squared_error(y_test, y_pred_linear)\n",
        "\n",
        "# Train a Lasso Regression model\n",
        "lasso_model = Lasso(alpha=0.1)\n",
        "lasso_model.fit(X_train, y_train)\n",
        "y_pred_lasso = lasso_model.predict(X_test)\n",
        "lasso_mse = mean_squared_error(y_test, y_pred_lasso)\n",
        "\n",
        "# Train a Ridge Regression model\n",
        "ridge_model = Ridge(alpha=0.1)\n",
        "ridge_model.fit(X_train, y_train)\n",
        "y_pred_ridge = ridge_model.predict(X_test)\n",
        "ridge_mse = mean_squared_error(y_test, y_pred_ridge)\n",
        "\n",
        "# Print results\n",
        "print(f\"Linear Regression MSE: {linear_mse}\")\n",
        "print(f\"Lasso Regression MSE: {lasso_mse}\")\n",
        "print(f\"Ridge Regression MSE: {ridge_mse}\")\n",
        "\n",
        "# Coefficients comparison\n",
        "print(f\"Linear Regression Coefficients: {linear_model.coef_}\")\n",
        "print(f\"Lasso Regression Coefficients: {lasso_model.coef_}\")\n",
        "print(f\"Ridge Regression Coefficients: {ridge_model.coef_}\")\n"
      ]
    }
  ]
}